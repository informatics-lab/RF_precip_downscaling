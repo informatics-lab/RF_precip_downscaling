{
 "cells": [
  {
   "cell_type": "code",
   "execution_count": null,
   "metadata": {
    "collapsed": true
   },
   "outputs": [],
   "source": [
    "import urllib.request\n",
    "\n",
    "def make_data_object_name(dataset_name, year, month, day, hour, realization, forecast_period):\n",
    "    template_string = \"prods_op_{}_{:02d}{:02d}{:02d}_{:02d}_{:02d}_{:03d}.nc\"\n",
    "    return template_string.format(dataset_name, year, month, day, hour, realization, forecast_period)\n",
    "\n",
    "def download_data_object(dataset_name, data_object_name, parent):\n",
    "    url = \"https://s3.eu-west-2.amazonaws.com/\" + dataset_name + \"/\" + data_object_name\n",
    "    urllib.request.urlretrieve(url, parent + '/' + data_object_name) # save in this directory with same name"
   ]
  },
  {
   "cell_type": "code",
   "execution_count": null,
   "metadata": {
    "collapsed": true
   },
   "outputs": [],
   "source": [
    "import os\n",
    "import boto3\n",
    "from botocore.client import Config\n",
    "\n",
    "def boto_download(prefix, download_dir='./'):\n",
    "    session = boto3.session.Session(aws_access_key_id=os.environ['ACCESS_KEY'], # These need to be set at environmental\n",
    "                                    aws_secret_access_key=os.environ['SECRET_KEY']) # variables as per your AWS credentials\n",
    "    s3 = session.resource('s3', config=Config(signature_version='s3v4'))\n",
    "    bucket = s3.Bucket('mogreps-uk')\n",
    "    keys = bucket.objects.filter(Prefix=prefix)\n",
    "    for key in keys:\n",
    "        key_name = key.key\n",
    "        fpath = '{}{}'.format(download_dir, key_name)\n",
    "        if os.path.isfile(fpath):\n",
    "            print('{} already exists, skipping...'.format(fpath))\n",
    "        else:\n",
    "            print('Downloading {}...'.format(key_name))\n",
    "            with open(fpath, 'wb') as outf:\n",
    "                bucket.download_fileobj(Key=key_name, Fileobj=outf)"
   ]
  },
  {
   "cell_type": "code",
   "execution_count": null,
   "metadata": {},
   "outputs": [],
   "source": [
    "for month in [7, 8, 9]:\n",
    "    for day in [1, 4, 7, 15, 18, 21]:\n",
    "        for hour in [3, 9, 15, 21]:\n",
    "            for fcst in [3, 6]:\n",
    "                boto_download('prods_op_mogreps-uk_2016{:02d}{:02d}_{:02d}_00_{:03d}'.format(month, day, hour, fcst),\n",
    "                              '../data/')"
   ]
  },
  {
   "cell_type": "code",
   "execution_count": null,
   "metadata": {
    "collapsed": true
   },
   "outputs": [],
   "source": []
  }
 ],
 "metadata": {
  "kernelspec": {
   "display_name": "Python 3",
   "language": "python",
   "name": "python3"
  },
  "language_info": {
   "codemirror_mode": {
    "name": "ipython",
    "version": 3
   },
   "file_extension": ".py",
   "mimetype": "text/x-python",
   "name": "python",
   "nbconvert_exporter": "python",
   "pygments_lexer": "ipython3",
   "version": "3.6.2"
  }
 },
 "nbformat": 4,
 "nbformat_minor": 2
}
