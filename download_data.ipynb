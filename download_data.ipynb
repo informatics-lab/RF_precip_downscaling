{
 "cells": [
  {
   "cell_type": "code",
   "execution_count": 2,
   "metadata": {
    "collapsed": true
   },
   "outputs": [],
   "source": [
    "import urllib.request\n",
    "\n",
    "def make_data_object_name(dataset_name, year, month, day, hour, realization, forecast_period):\n",
    "    template_string = \"prods_op_{}_{:02d}{:02d}{:02d}_{:02d}_{:02d}_{:03d}.nc\"\n",
    "    return template_string.format(dataset_name, year, month, day, hour, realization, forecast_period)\n",
    "\n",
    "def download_data_object(dataset_name, data_object_name, parent):\n",
    "    url = \"https://s3.eu-west-2.amazonaws.com/\" + dataset_name + \"/\" + data_object_name\n",
    "    urllib.request.urlretrieve(url, parent + '/' + data_object_name) # save in this directory with same name"
   ]
  },
  {
   "cell_type": "code",
   "execution_count": 3,
   "metadata": {
    "collapsed": true
   },
   "outputs": [],
   "source": [
    "import os\n",
    "import boto3\n",
    "from botocore.client import Config\n",
    "\n",
    "def boto_download(prefix, download_dir='./'):\n",
    "    session = boto3.session.Session(aws_access_key_id=os.environ['ACCESS_KEY'], # These need to be set at environmental\n",
    "                                    aws_secret_access_key=os.environ['SECRET_KEY']) # variables as per your AWS credentials\n",
    "    s3 = session.resource('s3', config=Config(signature_version='s3v4'))\n",
    "    bucket = s3.Bucket('mogreps-uk')\n",
    "    keys = bucket.objects.filter(Prefix=prefix)\n",
    "    for key in keys:\n",
    "        key_name = key.key\n",
    "        fpath = '{}{}'.format(download_dir, key_name)\n",
    "        if os.path.isfile(fpath):\n",
    "            print('{} already exists, skipping...'.format(fpath))\n",
    "        else:\n",
    "            print('Downloading {}...'.format(key_name))\n",
    "            with open(fpath, 'wb') as outf:\n",
    "                bucket.download_fileobj(Key=key_name, Fileobj=outf)"
   ]
  },
  {
   "cell_type": "code",
   "execution_count": 4,
   "metadata": {},
   "outputs": [
    {
     "name": "stdout",
     "output_type": "stream",
     "text": [
      "../data/prods_op_mogreps-uk_20160801_03_00_003.nc already exists, skipping...\n",
      "../data/prods_op_mogreps-uk_20160801_03_00_006.nc already exists, skipping...\n",
      "../data/prods_op_mogreps-uk_20160801_09_00_003.nc already exists, skipping...\n",
      "../data/prods_op_mogreps-uk_20160801_09_00_006.nc already exists, skipping...\n",
      "../data/prods_op_mogreps-uk_20160801_15_00_003.nc already exists, skipping...\n",
      "../data/prods_op_mogreps-uk_20160801_15_00_006.nc already exists, skipping...\n",
      "../data/prods_op_mogreps-uk_20160801_21_00_003.nc already exists, skipping...\n",
      "../data/prods_op_mogreps-uk_20160804_03_00_003.nc already exists, skipping...\n",
      "../data/prods_op_mogreps-uk_20160804_03_00_006.nc already exists, skipping...\n",
      "../data/prods_op_mogreps-uk_20160804_09_00_003.nc already exists, skipping...\n",
      "../data/prods_op_mogreps-uk_20160804_09_00_006.nc already exists, skipping...\n",
      "../data/prods_op_mogreps-uk_20160804_15_00_003.nc already exists, skipping...\n",
      "../data/prods_op_mogreps-uk_20160804_15_00_006.nc already exists, skipping...\n",
      "../data/prods_op_mogreps-uk_20160804_21_00_003.nc already exists, skipping...\n",
      "../data/prods_op_mogreps-uk_20160807_03_00_003.nc already exists, skipping...\n",
      "../data/prods_op_mogreps-uk_20160807_03_00_006.nc already exists, skipping...\n",
      "../data/prods_op_mogreps-uk_20160807_09_00_003.nc already exists, skipping...\n",
      "../data/prods_op_mogreps-uk_20160807_09_00_006.nc already exists, skipping...\n",
      "../data/prods_op_mogreps-uk_20160807_15_00_003.nc already exists, skipping...\n",
      "../data/prods_op_mogreps-uk_20160807_15_00_006.nc already exists, skipping...\n",
      "../data/prods_op_mogreps-uk_20160807_21_00_003.nc already exists, skipping...\n",
      "../data/prods_op_mogreps-uk_20160815_03_00_003.nc already exists, skipping...\n",
      "../data/prods_op_mogreps-uk_20160815_03_00_006.nc already exists, skipping...\n",
      "../data/prods_op_mogreps-uk_20160815_09_00_003.nc already exists, skipping...\n",
      "../data/prods_op_mogreps-uk_20160815_09_00_006.nc already exists, skipping...\n",
      "../data/prods_op_mogreps-uk_20160815_15_00_003.nc already exists, skipping...\n",
      "../data/prods_op_mogreps-uk_20160815_15_00_006.nc already exists, skipping...\n",
      "../data/prods_op_mogreps-uk_20160815_21_00_003.nc already exists, skipping...\n",
      "../data/prods_op_mogreps-uk_20160818_03_00_003.nc already exists, skipping...\n",
      "../data/prods_op_mogreps-uk_20160818_03_00_006.nc already exists, skipping...\n",
      "../data/prods_op_mogreps-uk_20160818_09_00_003.nc already exists, skipping...\n",
      "../data/prods_op_mogreps-uk_20160818_09_00_006.nc already exists, skipping...\n",
      "../data/prods_op_mogreps-uk_20160818_15_00_003.nc already exists, skipping...\n",
      "../data/prods_op_mogreps-uk_20160818_15_00_006.nc already exists, skipping...\n",
      "../data/prods_op_mogreps-uk_20160818_21_00_003.nc already exists, skipping...\n",
      "../data/prods_op_mogreps-uk_20160821_03_00_003.nc already exists, skipping...\n",
      "../data/prods_op_mogreps-uk_20160821_03_00_006.nc already exists, skipping...\n",
      "../data/prods_op_mogreps-uk_20160821_09_00_003.nc already exists, skipping...\n",
      "../data/prods_op_mogreps-uk_20160821_09_00_006.nc already exists, skipping...\n",
      "../data/prods_op_mogreps-uk_20160821_15_00_003.nc already exists, skipping...\n",
      "../data/prods_op_mogreps-uk_20160821_15_00_006.nc already exists, skipping...\n",
      "../data/prods_op_mogreps-uk_20160821_21_00_003.nc already exists, skipping...\n"
     ]
    }
   ],
   "source": [
    "files = []\n",
    "\n",
    "for month in [8]:\n",
    "    for day in [1, 4, 7, 15, 18, 21]:\n",
    "        for hour in [3, 9, 15, 21]:\n",
    "            fcsts = [3] if hour == 21 else [3, 6]\n",
    "            for fcst in fcsts:\n",
    "                f = 'prods_op_mogreps-uk_2016{:02d}{:02d}_{:02d}_00_{:03d}'.format(month, day, hour, fcst)\n",
    "                boto_download(f, '../data/')\n",
    "                files.append(f+'.nc')"
   ]
  },
  {
   "cell_type": "code",
   "execution_count": 5,
   "metadata": {},
   "outputs": [
    {
     "name": "stderr",
     "output_type": "stream",
     "text": [
      "/home/ubuntu/miniconda3/lib/python3.6/site-packages/matplotlib/cbook/deprecation.py:106: MatplotlibDeprecationWarning: The mpl_toolkits.axes_grid module was deprecated in version 2.1. Use mpl_toolkits.axes_grid1 and mpl_toolkits.axisartist provies the same functionality instead.\n",
      "  warnings.warn(message, mplDeprecation, stacklevel=1)\n"
     ]
    }
   ],
   "source": [
    "import iris\n",
    "from iris import quickplot as qplt\n",
    "import numpy as np\n",
    "import cartopy.crs as ccrs\n",
    "import os\n",
    "from matplotlib import pyplot as plt\n",
    "\n",
    "iris.FUTURE.netcdf_promote = True\n",
    "iris.FUTURE.netcdf_no_unlimited = True\n",
    "%matplotlib inline\n",
    "\n",
    "# for f in files:\n",
    "#     os.rename('../data/'+f, '../data/'+'tmpfile')\n",
    "#     cl = iris.load('../data/'+'tmpfile')\n",
    "#     subset = cl.extract(iris.Constraint(grid_latitude=lambda cell: 2 < cell < 3))\n",
    "#     iris.save(subset, '../data/'+f)\n",
    "#     os.remove('../data/'+'tmpfile')"
   ]
  },
  {
   "cell_type": "code",
   "execution_count": 6,
   "metadata": {
    "collapsed": true
   },
   "outputs": [],
   "source": [
    "cl = iris.load('../data/'+files[0])"
   ]
  },
  {
   "cell_type": "code",
   "execution_count": 7,
   "metadata": {},
   "outputs": [
    {
     "name": "stderr",
     "output_type": "stream",
     "text": [
      "/home/ubuntu/miniconda3/lib/python3.6/site-packages/iris/coords.py:826: UserWarning: Coordinate 'grid_longitude' is not bounded, guessing contiguous bounds.\n",
      "  'contiguous bounds.'.format(self.name()))\n",
      "/home/ubuntu/miniconda3/lib/python3.6/site-packages/iris/coords.py:826: UserWarning: Coordinate 'grid_latitude' is not bounded, guessing contiguous bounds.\n",
      "  'contiguous bounds.'.format(self.name()))\n"
     ]
    },
    {
     "data": {
      "text/plain": [
       "<cartopy.mpl.feature_artist.FeatureArtist at 0x7f20d71f3898>"
      ]
     },
     "execution_count": 7,
     "metadata": {},
     "output_type": "execute_result"
    },
    {
     "data": {
      "image/png": "[encoded data removed]",
      "text/plain": [
       "<matplotlib.figure.Figure at 0x7f20d72fd240>"
      ]
     },
     "metadata": {},
     "output_type": "display_data"
    }
   ],
   "source": [
    "plt.figure(figsize=(50,10))\n",
    "cube = cl[2][0]\n",
    "qplt.pcolormesh(cube)\n",
    "plt.gca().coastlines()"
   ]
  },
  {
   "cell_type": "code",
   "execution_count": 8,
   "metadata": {},
   "outputs": [
    {
     "name": "stdout",
     "output_type": "stream",
     "text": [
      "CPU times: user 236 ms, sys: 4 ms, total: 240 ms\n",
      "Wall time: 232 ms\n"
     ]
    },
    {
     "data": {
      "text/plain": [
       "[<iris 'Cube' of unknown / (1) (time: 4; grid_longitude: 421)>,\n",
       " <iris 'Cube' of unknown_2 / (1) (time: 4; grid_longitude: 421)>,\n",
       " <iris 'Cube' of unknown_0 / (1) (-- : 4; grid_longitude: 421)>,\n",
       " <iris 'Cube' of unknown_1 / (1) (time: 4; grid_longitude: 421)>,\n",
       " <iris 'Cube' of cloud_base_altitude_assuming_only_consider_cloud_area_fraction_greater_than_2p5_oktas / (kft) (time: 4; grid_longitude: 421)>,\n",
       " <iris 'Cube' of wet_bulb_freezing_level_altitude / (m) (time: 4; grid_longitude: 421)>,\n",
       " <iris 'Cube' of stratiform_snowfall_rate / (kg m-2 s-1) (time: 37; grid_longitude: 421)>,\n",
       " <iris 'Cube' of cloud_area_fraction_assuming_maximum_random_overlap / (1) (time: 4; grid_longitude: 421)>,\n",
       " <iris 'Cube' of wet_bulb_potential_temperature / (K) (time: 4; pressure: 3; grid_longitude: 421)>,\n",
       " <iris 'Cube' of air_pressure_at_sea_level / (Pa) (time: 4; grid_longitude: 421)>,\n",
       " <iris 'Cube' of air_temperature / (K) (time: 4; grid_longitude: 421)>,\n",
       " <iris 'Cube' of air_temperature / (K) (time: 4; pressure: 2; grid_longitude: 421)>,\n",
       " <iris 'Cube' of air_temperature / (K) (time: 3; grid_longitude: 421)>,\n",
       " <iris 'Cube' of air_temperature / (K) (time: 3; grid_longitude: 421)>,\n",
       " <iris 'Cube' of dew_point_temperature / (K) (time: 4; grid_longitude: 421)>,\n",
       " <iris 'Cube' of fog_area_fraction / (1) (time: 4; grid_longitude: 421)>,\n",
       " <iris 'Cube' of geopotential_height / (m) (time: 4; pressure: 3; grid_longitude: 421)>,\n",
       " <iris 'Cube' of high_type_cloud_area_fraction / (1) (time: 4; grid_longitude: 421)>,\n",
       " <iris 'Cube' of land_binary_mask / (1) (grid_longitude: 421)>,\n",
       " <iris 'Cube' of low_type_cloud_area_fraction / (1) (time: 4; grid_longitude: 421)>,\n",
       " <iris 'Cube' of medium_type_cloud_area_fraction / (1) (time: 4; grid_longitude: 421)>,\n",
       " <iris 'Cube' of relative_humidity / (%) (time: 4; grid_longitude: 421)>,\n",
       " <iris 'Cube' of relative_humidity / (%) (time: 4; pressure: 2; grid_longitude: 421)>,\n",
       " <iris 'Cube' of specific_humidity / (1) (time: 4; grid_longitude: 421)>,\n",
       " <iris 'Cube' of stratiform_rainfall_amount / (kg m-2) (-- : 4; grid_longitude: 421)>,\n",
       " <iris 'Cube' of stratiform_rainfall_rate / (kg m-2 s-1) (time: 37; grid_longitude: 421)>,\n",
       " <iris 'Cube' of stratiform_snowfall_amount / (kg m-2) (-- : 4; grid_longitude: 421)>,\n",
       " <iris 'Cube' of surface_air_pressure / (Pa) (time: 4; grid_longitude: 421)>,\n",
       " <iris 'Cube' of surface_altitude / (m) (grid_longitude: 421)>,\n",
       " <iris 'Cube' of surface_altitude / (m) (grid_longitude: 421)>,\n",
       " <iris 'Cube' of surface_altitude / (m) (grid_longitude: 421)>,\n",
       " <iris 'Cube' of surface_altitude / (m) (grid_longitude: 421)>,\n",
       " <iris 'Cube' of surface_altitude / (m) (grid_longitude: 421)>,\n",
       " <iris 'Cube' of surface_downward_eastward_stress / (Pa) (time: 4; grid_longitude: 421)>,\n",
       " <iris 'Cube' of surface_downward_northward_stress / (Pa) (time: 4; grid_longitude: 421)>,\n",
       " <iris 'Cube' of surface_downwelling_longwave_flux / (W m-2) (time: 3; grid_longitude: 421)>,\n",
       " <iris 'Cube' of surface_downwelling_shortwave_flux_in_air / (W m-2) (time: 3; grid_longitude: 421)>,\n",
       " <iris 'Cube' of visibility_in_air / (m) (time: 4; grid_longitude: 421)>,\n",
       " <iris 'Cube' of wind_speed_of_gust / (m s-1) (time: 3; grid_longitude: 421)>,\n",
       " <iris 'Cube' of x_wind / (m s-1) (time: 4; grid_longitude: 421)>,\n",
       " <iris 'Cube' of x_wind / (m s-1) (time: 4; grid_longitude: 421)>,\n",
       " <iris 'Cube' of x_wind / (m s-1) (time: 4; pressure: 2; grid_longitude: 421)>,\n",
       " <iris 'Cube' of y_wind / (m s-1) (time: 4; grid_longitude: 421)>,\n",
       " <iris 'Cube' of y_wind / (m s-1) (time: 4; grid_longitude: 421)>,\n",
       " <iris 'Cube' of y_wind / (m s-1) (time: 4; pressure: 2; grid_longitude: 421)>]"
      ]
     },
     "execution_count": 8,
     "metadata": {},
     "output_type": "execute_result"
    }
   ],
   "source": [
    "%time [c.extract(iris.Constraint(grid_latitude = lambda x: 2.65 < x < 2.67)) for c in cl]"
   ]
  },
  {
   "cell_type": "code",
   "execution_count": 9,
   "metadata": {},
   "outputs": [
    {
     "name": "stdout",
     "output_type": "stream",
     "text": [
      "CPU times: user 224 ms, sys: 12 ms, total: 236 ms\n",
      "Wall time: 230 ms\n"
     ]
    },
    {
     "data": {
      "text/plain": [
       "[<iris 'Cube' of unknown / (1) (time: 4; grid_longitude: 421)>,\n",
       "<iris 'Cube' of unknown_2 / (1) (time: 4; grid_longitude: 421)>,\n",
       "<iris 'Cube' of unknown_0 / (1) (-- : 4; grid_longitude: 421)>,\n",
       "<iris 'Cube' of unknown_1 / (1) (time: 4; grid_longitude: 421)>,\n",
       "<iris 'Cube' of cloud_base_altitude_assuming_only_consider_cloud_area_fraction_greater_than_2p5_oktas / (kft) (time: 4; grid_longitude: 421)>,\n",
       "<iris 'Cube' of wet_bulb_freezing_level_altitude / (m) (time: 4; grid_longitude: 421)>,\n",
       "<iris 'Cube' of stratiform_snowfall_rate / (kg m-2 s-1) (time: 37; grid_longitude: 421)>,\n",
       "<iris 'Cube' of cloud_area_fraction_assuming_maximum_random_overlap / (1) (time: 4; grid_longitude: 421)>,\n",
       "<iris 'Cube' of wet_bulb_potential_temperature / (K) (time: 4; pressure: 3; grid_longitude: 421)>,\n",
       "<iris 'Cube' of air_pressure_at_sea_level / (Pa) (time: 4; grid_longitude: 421)>,\n",
       "<iris 'Cube' of air_temperature / (K) (time: 4; grid_longitude: 421)>,\n",
       "<iris 'Cube' of air_temperature / (K) (time: 4; pressure: 2; grid_longitude: 421)>,\n",
       "<iris 'Cube' of air_temperature / (K) (time: 3; grid_longitude: 421)>,\n",
       "<iris 'Cube' of air_temperature / (K) (time: 3; grid_longitude: 421)>,\n",
       "<iris 'Cube' of dew_point_temperature / (K) (time: 4; grid_longitude: 421)>,\n",
       "<iris 'Cube' of fog_area_fraction / (1) (time: 4; grid_longitude: 421)>,\n",
       "<iris 'Cube' of geopotential_height / (m) (time: 4; pressure: 3; grid_longitude: 421)>,\n",
       "<iris 'Cube' of high_type_cloud_area_fraction / (1) (time: 4; grid_longitude: 421)>,\n",
       "<iris 'Cube' of land_binary_mask / (1) (grid_longitude: 421)>,\n",
       "<iris 'Cube' of low_type_cloud_area_fraction / (1) (time: 4; grid_longitude: 421)>,\n",
       "<iris 'Cube' of medium_type_cloud_area_fraction / (1) (time: 4; grid_longitude: 421)>,\n",
       "<iris 'Cube' of relative_humidity / (%) (time: 4; grid_longitude: 421)>,\n",
       "<iris 'Cube' of relative_humidity / (%) (time: 4; pressure: 2; grid_longitude: 421)>,\n",
       "<iris 'Cube' of specific_humidity / (1) (time: 4; grid_longitude: 421)>,\n",
       "<iris 'Cube' of stratiform_rainfall_amount / (kg m-2) (-- : 4; grid_longitude: 421)>,\n",
       "<iris 'Cube' of stratiform_rainfall_rate / (kg m-2 s-1) (time: 37; grid_longitude: 421)>,\n",
       "<iris 'Cube' of stratiform_snowfall_amount / (kg m-2) (-- : 4; grid_longitude: 421)>,\n",
       "<iris 'Cube' of surface_air_pressure / (Pa) (time: 4; grid_longitude: 421)>,\n",
       "<iris 'Cube' of surface_altitude / (m) (grid_longitude: 421)>,\n",
       "<iris 'Cube' of surface_altitude / (m) (grid_longitude: 421)>,\n",
       "<iris 'Cube' of surface_altitude / (m) (grid_longitude: 421)>,\n",
       "<iris 'Cube' of surface_altitude / (m) (grid_longitude: 421)>,\n",
       "<iris 'Cube' of surface_altitude / (m) (grid_longitude: 421)>,\n",
       "<iris 'Cube' of surface_downward_eastward_stress / (Pa) (time: 4; grid_longitude: 421)>,\n",
       "<iris 'Cube' of surface_downward_northward_stress / (Pa) (time: 4; grid_longitude: 421)>,\n",
       "<iris 'Cube' of surface_downwelling_longwave_flux / (W m-2) (time: 3; grid_longitude: 421)>,\n",
       "<iris 'Cube' of surface_downwelling_shortwave_flux_in_air / (W m-2) (time: 3; grid_longitude: 421)>,\n",
       "<iris 'Cube' of visibility_in_air / (m) (time: 4; grid_longitude: 421)>,\n",
       "<iris 'Cube' of wind_speed_of_gust / (m s-1) (time: 3; grid_longitude: 421)>,\n",
       "<iris 'Cube' of x_wind / (m s-1) (time: 4; grid_longitude: 421)>,\n",
       "<iris 'Cube' of x_wind / (m s-1) (time: 4; grid_longitude: 421)>,\n",
       "<iris 'Cube' of x_wind / (m s-1) (time: 4; pressure: 2; grid_longitude: 421)>,\n",
       "<iris 'Cube' of y_wind / (m s-1) (time: 4; grid_longitude: 421)>,\n",
       "<iris 'Cube' of y_wind / (m s-1) (time: 4; grid_longitude: 421)>,\n",
       "<iris 'Cube' of y_wind / (m s-1) (time: 4; pressure: 2; grid_longitude: 421)>]"
      ]
     },
     "execution_count": 9,
     "metadata": {},
     "output_type": "execute_result"
    }
   ],
   "source": [
    "%time cl.extract(iris.Constraint(grid_latitude = lambda x: 2.65 < x < 2.67))"
   ]
  },
  {
   "cell_type": "code",
   "execution_count": 10,
   "metadata": {},
   "outputs": [
    {
     "data": {
      "text/plain": [
       "RotatedGeogCS(37.5, 177.5, ellipsoid=GeogCS(6371229.0))"
      ]
     },
     "execution_count": 10,
     "metadata": {},
     "output_type": "execute_result"
    }
   ],
   "source": [
    "cl[0].coord_system()"
   ]
  },
  {
   "cell_type": "code",
   "execution_count": 11,
   "metadata": {},
   "outputs": [
    {
     "data": {
      "text/plain": [
       "<cartopy.crs.RotatedGeodetic at 0x7f20bcb45d58>"
      ]
     },
     "execution_count": 11,
     "metadata": {},
     "output_type": "execute_result"
    }
   ],
   "source": [
    "iris.coord_systems.RotatedGeogCS(37.5, 177.5, ellipsoid=iris.coord_systems.GeogCS(6371229.0)).as_cartopy_crs()"
   ]
  },
  {
   "cell_type": "code",
   "execution_count": 12,
   "metadata": {},
   "outputs": [],
   "source": [
    "c = cl[0]"
   ]
  },
  {
   "cell_type": "code",
   "execution_count": 13,
   "metadata": {
    "collapsed": true
   },
   "outputs": [],
   "source": [
    "c.regrid?"
   ]
  },
  {
   "cell_type": "code",
   "execution_count": 36,
   "metadata": {},
   "outputs": [],
   "source": [
    "pts = ccrs.PlateCarree().transform_points(c.coord_system().as_cartopy_crs(),\n",
    "                                          np.repeat(c.coord('grid_longitude').points,50),\n",
    "                                          np.repeat(c.coord('grid_latitude').points,421))[:,:2]"
   ]
  },
  {
   "cell_type": "code",
   "execution_count": 43,
   "metadata": {},
   "outputs": [
    {
     "data": {
      "text/plain": [
       "array([[-11.21555658,  54.19279913],\n",
       "       [-11.21555658,  54.19279913],\n",
       "       [-11.21555658,  54.19279913],\n",
       "       ..., \n",
       "       [  3.32138936,  55.34658386],\n",
       "       [  3.32138936,  55.34658386],\n",
       "       [  3.32138936,  55.34658386]])"
      ]
     },
     "execution_count": 43,
     "metadata": {},
     "output_type": "execute_result"
    }
   ],
   "source": [
    "pts"
   ]
  },
  {
   "cell_type": "code",
   "execution_count": 44,
   "metadata": {},
   "outputs": [
    {
     "data": {
      "text/plain": [
       "[<matplotlib.lines.Line2D at 0x7f20bc8a6978>]"
      ]
     },
     "execution_count": 44,
     "metadata": {},
     "output_type": "execute_result"
    },
    {
     "data": {
      "image/png": "[encoded data removed]",
      "text/plain": [
       "<matplotlib.figure.Figure at 0x7f20d72c5978>"
      ]
     },
     "metadata": {},
     "output_type": "display_data"
    }
   ],
   "source": [
    "plt.plot(pts[:,1])"
   ]
  },
  {
   "cell_type": "code",
   "execution_count": 42,
   "metadata": {},
   "outputs": [
    {
     "data": {
      "text/plain": [
       "470"
      ]
     },
     "execution_count": 42,
     "metadata": {},
     "output_type": "execute_result"
    }
   ],
   "source": [
    "len(np.unique(pts[:,1]))"
   ]
  },
  {
   "cell_type": "code",
   "execution_count": 41,
   "metadata": {},
   "outputs": [
    {
     "data": {
      "text/plain": [
       "array([[[-11.21555658,  54.19279913],\n",
       "        [-11.21555658,  54.19279913],\n",
       "        [-11.21555658,  54.19279913],\n",
       "        ..., \n",
       "        [-10.94410165,  54.21173691],\n",
       "        [-10.94410165,  54.21173691],\n",
       "        [-10.94410165,  54.21173691]],\n",
       "\n",
       "       [[-10.94809031,  54.23160047],\n",
       "        [-10.94809031,  54.23160047],\n",
       "        [-10.94809031,  54.23160047],\n",
       "        ..., \n",
       "        [-10.67626764,  54.24995169],\n",
       "        [-10.67626764,  54.24995169],\n",
       "        [-10.67626764,  54.24995169]],\n",
       "\n",
       "       [[-10.68013429,  54.26982374],\n",
       "        [-10.68013429,  54.26982374],\n",
       "        [-10.68013429,  54.26982374],\n",
       "        ..., \n",
       "        [-10.37393072,  54.2897641 ],\n",
       "        [-10.37393072,  54.2897641 ],\n",
       "        [-10.37393072,  54.2897641 ]],\n",
       "\n",
       "       ..., \n",
       "       [[  2.44045029,  55.34389393],\n",
       "        [  2.44045029,  55.34389393],\n",
       "        [  2.44045029,  55.34389393],\n",
       "        ..., \n",
       "        [  2.75572141,  55.33120475],\n",
       "        [  2.75572141,  55.33120475],\n",
       "        [  2.75572141,  55.33120475]],\n",
       "\n",
       "       [[  2.7582812 ,  55.35115168],\n",
       "        [  2.7582812 ,  55.35115168],\n",
       "        [  2.7582812 ,  55.35115168],\n",
       "        ..., \n",
       "        [  3.03850399,  55.33920915],\n",
       "        [  3.03850399,  55.33920915],\n",
       "        [  3.03850399,  55.33920915]],\n",
       "\n",
       "       [[  3.04120168,  55.35915023],\n",
       "        [  3.04120168,  55.35915023],\n",
       "        [  3.04120168,  55.35915023],\n",
       "        ..., \n",
       "        [  3.32138936,  55.34658386],\n",
       "        [  3.32138936,  55.34658386],\n",
       "        [  3.32138936,  55.34658386]]])"
      ]
     },
     "execution_count": 41,
     "metadata": {},
     "output_type": "execute_result"
    }
   ],
   "source": [
    "pts.reshape((50,421,2))"
   ]
  },
  {
   "cell_type": "code",
   "execution_count": null,
   "metadata": {
    "collapsed": true
   },
   "outputs": [],
   "source": []
  }
 ],
 "metadata": {
  "kernelspec": {
   "display_name": "Python 3",
   "language": "python",
   "name": "python3"
  },
  "language_info": {
   "codemirror_mode": {
    "name": "ipython",
    "version": 3
   },
   "file_extension": ".py",
   "mimetype": "text/x-python",
   "name": "python",
   "nbconvert_exporter": "python",
   "pygments_lexer": "ipython3",
   "version": "3.6.2"
  }
 },
 "nbformat": 4,
 "nbformat_minor": 2
}
