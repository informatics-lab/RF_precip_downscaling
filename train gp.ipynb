{
 "cells": [
  {
   "cell_type": "code",
   "execution_count": 2,
   "metadata": {
    "collapsed": true
   },
   "outputs": [],
   "source": [
    "import pandas as pd\n",
    "import sklearn\n",
    "import os\n",
    "import iris\n",
    "import numpy as np\n",
    "import scipy as sp\n",
    "from GridcellDataset import GridcellDataset\n",
    "from pathos.multiprocessing import Pool\n",
    "from matplotlib import pyplot as plt\n",
    "import cartopy.crs as ccrs\n",
    "import GPy\n",
    "import gc\n",
    "import pyDOE\n",
    "import xarray as xr\n",
    "import random\n",
    "import pickle\n",
    "\n",
    "%matplotlib inline\n",
    "\n",
    "iris.FUTURE.netcdf_promote = True\n",
    "iris.FUTURE.netcdf_no_unlimited = True"
   ]
  },
  {
   "cell_type": "code",
   "execution_count": 3,
   "metadata": {
    "collapsed": true
   },
   "outputs": [],
   "source": [
    "coord_system = iris.coord_systems.RotatedGeogCS(37.5, 177.5, \n",
    "                                                ellipsoid=iris.coord_systems.GeogCS(6371229.0)).as_cartopy_crs()\n",
    "\n",
    "def transform(lon, lat):\n",
    "    return coord_system.transform_point(lon, lat, ccrs.PlateCarree())"
   ]
  },
  {
   "cell_type": "code",
   "execution_count": 4,
   "metadata": {
    "collapsed": true
   },
   "outputs": [],
   "source": [
    "# train_vars = [a for a in list(train.data_vars.keys()) if a not in ['Unnamed: 0', 'target']]\n",
    "# train_vars = ['stratiform_rainfall_amount', 'stratiform_rainfall_amount_up',\n",
    "#               'stratiform_rainfall_amount_down', 'stratiform_rainfall_amount_left', 'stratiform_rainfall_amount_right', \n",
    "#              'air_temperature', 'specific_humidity', 'surface_altitude', 'distance', 'latitude', 'longitude',\n",
    "#              'surface_air_pressure', 'x_wind', 'y_wind']"
   ]
  },
  {
   "cell_type": "code",
   "execution_count": 5,
   "metadata": {
    "collapsed": true
   },
   "outputs": [],
   "source": [
    "train_vars = ['stratiform_rainfall_amount', 'surface_altitude', 'distance', 'latitude', 'longitude']"
   ]
  },
  {
   "cell_type": "code",
   "execution_count": 6,
   "metadata": {
    "collapsed": true
   },
   "outputs": [],
   "source": [
    "scale = 4"
   ]
  },
  {
   "cell_type": "code",
   "execution_count": 7,
   "metadata": {
    "collapsed": true
   },
   "outputs": [],
   "source": [
    "train = pd.read_csv('../data/train{:d}.new.csv'.format(scale))\n",
    "t = ['target', 'stratiform_rainfall_amount', 'stratiform_rainfall_amount_up',\n",
    "     'stratiform_rainfall_amount_down', 'stratiform_rainfall_amount_left', 'stratiform_rainfall_amount_right'] "
   ]
  },
  {
   "cell_type": "code",
   "execution_count": 7,
   "metadata": {
    "collapsed": true
   },
   "outputs": [],
   "source": [
    "# test = pd.read_csv('../data/id_test{:d}.csv'.format(scale))\n",
    "# #     test[t[1:]] = np.log1p(test[t[1:]])\n",
    "# #     Xt = test[test.columns.difference(['Unnamed: 0', 'target'])]\n",
    "# test = test[test['fcst_id'] > 0]\n",
    "# test = xr.Dataset(test)\n",
    "# # Xt = test[train_vars]\n",
    "# # yt = test['target']"
   ]
  },
  {
   "cell_type": "code",
   "execution_count": 9,
   "metadata": {},
   "outputs": [],
   "source": [
    "test = xr.open_dataset('../data/id_test{:d}.new.nc'.format(scale))"
   ]
  },
  {
   "cell_type": "code",
   "execution_count": 11,
   "metadata": {
    "collapsed": true
   },
   "outputs": [],
   "source": [
    "cond_vars = ['stratiform_rainfall_amount']"
   ]
  },
  {
   "cell_type": "code",
   "execution_count": 12,
   "metadata": {
    "collapsed": true
   },
   "outputs": [],
   "source": [
    "# train[t] = np.log1p(train[t]) \n",
    "train = xr.Dataset(train)"
   ]
  },
  {
   "cell_type": "code",
   "execution_count": 13,
   "metadata": {
    "collapsed": true
   },
   "outputs": [],
   "source": [
    "# design = pyDOE.lhs(1, criterion='center', samples=300)\n",
    "# delta = np.min(design)"
   ]
  },
  {
   "cell_type": "code",
   "execution_count": 14,
   "metadata": {
    "collapsed": true
   },
   "outputs": [],
   "source": [
    "# sample_inds = []\n",
    "# for n in range(design.shape[0]):\n",
    "#     conds = []\n",
    "#     for i, v in enumerate(cond_vars):\n",
    "#         conds.append(np.logical_and(train.quantile(design[n, i] - delta)[v].data <= train[v],\n",
    "#                                     train[v] <= train.quantile(design[n, i] + delta)[v].data))\n",
    "#     da = train['stratiform_rainfall_amount'].copy()\n",
    "# #     da.data = np.all(np.array(conds), axis=0)\n",
    "#     da.data = conds[0]\n",
    "#     try:\n",
    "#         sample_inds.append(np.random.choice(train.where(da, drop=True).dim_0.values))\n",
    "#     except:\n",
    "#         print(design[n])\n",
    "#         print(np.unique(da))\n",
    "#         pass"
   ]
  },
  {
   "cell_type": "code",
   "execution_count": 15,
   "metadata": {
    "collapsed": true
   },
   "outputs": [],
   "source": [
    "# samples = train.isel(dim_0=sample_inds)"
   ]
  },
  {
   "cell_type": "code",
   "execution_count": 16,
   "metadata": {},
   "outputs": [
    {
     "data": {
      "text/plain": [
       "5688"
      ]
     },
     "execution_count": 16,
     "metadata": {},
     "output_type": "execute_result"
    }
   ],
   "source": [
    "len(train['dim_0']) // 100"
   ]
  },
  {
   "cell_type": "code",
   "execution_count": 17,
   "metadata": {},
   "outputs": [
    {
     "data": {
      "text/plain": [
       "array([99, 99, 99, 99, 99, 99, 99, 99, 99, 99, 99, 99, 99, 99, 99, 98, 98,\n",
       "       98, 98, 98, 98, 98, 98, 98, 97, 97, 97, 97, 97, 97, 96, 96, 96, 96,\n",
       "       96, 95, 95, 95, 95, 94, 94, 94, 93, 93, 93, 92, 92, 92, 91, 91, 90,\n",
       "       90, 89, 89, 88, 88, 87, 86, 86, 85, 84, 83, 83, 82, 81, 80, 79, 78,\n",
       "       77, 76, 75, 73, 72, 71, 69, 68, 66, 65, 63, 61, 59, 57, 55, 53, 51,\n",
       "       48, 46, 43, 41, 38, 35, 32, 28, 25, 21, 17, 14,  9,  5,  0])"
      ]
     },
     "execution_count": 17,
     "metadata": {},
     "output_type": "execute_result"
    }
   ],
   "source": [
    "100 - np.geomspace(1, 100, 100, dtype=int)"
   ]
  },
  {
   "cell_type": "code",
   "execution_count": 18,
   "metadata": {
    "collapsed": true
   },
   "outputs": [],
   "source": [
    "# samples = train.isel(dim_0 = train.sortby('stratiform_rainfall_amount').dim_0[::200])"
   ]
  },
  {
   "cell_type": "code",
   "execution_count": 19,
   "metadata": {},
   "outputs": [
    {
     "data": {
      "text/plain": [
       "<xarray.DataArray 'dim_0' (dim_0: 3)>\n",
       "array([1, 2, 3])\n",
       "Coordinates:\n",
       "  * dim_0    (dim_0) int64 1 2 3"
      ]
     },
     "execution_count": 19,
     "metadata": {},
     "output_type": "execute_result"
    }
   ],
   "source": [
    "train.sortby('stratiform_rainfall_amount').dim_0[[1,2,3]]"
   ]
  },
  {
   "cell_type": "code",
   "execution_count": 20,
   "metadata": {
    "collapsed": true
   },
   "outputs": [],
   "source": [
    "sel = len(train['dim_0']) - np.geomspace(1, len(train['dim_0']), 100, dtype=int)"
   ]
  },
  {
   "cell_type": "code",
   "execution_count": 21,
   "metadata": {
    "collapsed": true
   },
   "outputs": [],
   "source": [
    "samples = train.isel(dim_0 = train.sortby('stratiform_rainfall_amount').dim_0[sel])"
   ]
  },
  {
   "cell_type": "code",
   "execution_count": 22,
   "metadata": {},
   "outputs": [
    {
     "data": {
      "text/plain": [
       "(<xarray.DataArray 'stratiform_rainfall_amount' ()>\n",
       " array(94.75846862792969), <xarray.DataArray 'stratiform_rainfall_amount' ()>\n",
       " array(94.75846862792969))"
      ]
     },
     "execution_count": 22,
     "metadata": {},
     "output_type": "execute_result"
    }
   ],
   "source": [
    "np.max(train['stratiform_rainfall_amount']), np.max(samples['stratiform_rainfall_amount'])"
   ]
  },
  {
   "cell_type": "code",
   "execution_count": 23,
   "metadata": {},
   "outputs": [
    {
     "data": {
      "image/png": "[encoded data removed]",
      "text/plain": [
       "<matplotlib.figure.Figure at 0x7fc2c9aad978>"
      ]
     },
     "metadata": {},
     "output_type": "display_data"
    }
   ],
   "source": [
    "plt.hist(np.log(train['target'].where(train['target'] > 0.01, drop=True)), bins=np.array(range(-6*10,4*10))*0.1);"
   ]
  },
  {
   "cell_type": "code",
   "execution_count": 24,
   "metadata": {},
   "outputs": [
    {
     "data": {
      "image/png": "[encoded data removed]",
      "text/plain": [
       "<matplotlib.figure.Figure at 0x7fc2c9a5a5f8>"
      ]
     },
     "metadata": {},
     "output_type": "display_data"
    }
   ],
   "source": [
    "plt.hist(np.log(train['target'] + 0.1), bins=np.array(range(-6*10,4*10))*0.1);"
   ]
  },
  {
   "cell_type": "code",
   "execution_count": 24,
   "metadata": {},
   "outputs": [],
   "source": [
    "# plt.gca().set_ylim(0,100)\n",
    "# h = plt.hist(samples['target'].where(train['target'] > 0.1, drop=True), bins=np.array(range(0,200))*0.25)"
   ]
  },
  {
   "cell_type": "code",
   "execution_count": 25,
   "metadata": {},
   "outputs": [
    {
     "data": {
      "image/png": "[encoded data removed]",
      "text/plain": [
       "<matplotlib.figure.Figure at 0x7f55763147f0>"
      ]
     },
     "metadata": {},
     "output_type": "display_data"
    }
   ],
   "source": [
    "# plt.gca().set_ylim(0,100)\n",
    "plt.hist(test['target'].where(test['stratiform_rainfall_amount'] == 0, drop=True), \n",
    "         bins=np.array(range(500))*0.05);"
   ]
  },
  {
   "cell_type": "code",
   "execution_count": 26,
   "metadata": {},
   "outputs": [
    {
     "data": {
      "text/plain": [
       "<matplotlib.collections.PathCollection at 0x7f5575ca3908>"
      ]
     },
     "execution_count": 26,
     "metadata": {},
     "output_type": "execute_result"
    },
    {
     "data": {
      "image/png": "[encoded data removed]",
      "text/plain": [
       "<matplotlib.figure.Figure at 0x7f55761024a8>"
      ]
     },
     "metadata": {},
     "output_type": "display_data"
    }
   ],
   "source": [
    "plt.scatter(test['stratiform_rainfall_amount'].where(test['stratiform_rainfall_amount'] == 0, drop=True), \n",
    "            test['target'].where(test['stratiform_rainfall_amount'] == 0, drop=True), \n",
    "            s=0.1)"
   ]
  },
  {
   "cell_type": "code",
   "execution_count": 27,
   "metadata": {
    "collapsed": true
   },
   "outputs": [],
   "source": [
    "# samples['stratiform_rainfall_amount']"
   ]
  },
  {
   "cell_type": "code",
   "execution_count": 28,
   "metadata": {
    "collapsed": true
   },
   "outputs": [],
   "source": [
    "# samples = train.isel(dim_0 = np.random.choice(train.dim_0, size=300, replace=False))"
   ]
  },
  {
   "cell_type": "code",
   "execution_count": 25,
   "metadata": {},
   "outputs": [
    {
     "data": {
      "text/plain": [
       "['stratiform_rainfall_amount',\n",
       " 'surface_altitude',\n",
       " 'distance',\n",
       " 'latitude',\n",
       " 'longitude']"
      ]
     },
     "execution_count": 25,
     "metadata": {},
     "output_type": "execute_result"
    }
   ],
   "source": [
    "train_vars"
   ]
  },
  {
   "cell_type": "code",
   "execution_count": 26,
   "metadata": {},
   "outputs": [
    {
     "ename": "NameError",
     "evalue": "name 'X' is not defined",
     "output_type": "error",
     "traceback": [
      "\u001b[0;31m---------------------------------------------------------------------------\u001b[0m",
      "\u001b[0;31mNameError\u001b[0m                                 Traceback (most recent call last)",
      "\u001b[0;32m<ipython-input-26-69ecbcfff6a5>\u001b[0m in \u001b[0;36m<module>\u001b[0;34m()\u001b[0m\n\u001b[0;32m----> 1\u001b[0;31m lin = np.polyfit(X['stratiform_rainfall_amount'].to_dataframe().values.flatten(), \n\u001b[0m\u001b[1;32m      2\u001b[0m                  y.to_dataframe().values.flatten(), deg=2)\n",
      "\u001b[0;31mNameError\u001b[0m: name 'X' is not defined"
     ]
    }
   ],
   "source": [
    "lin = np.polyfit(X['stratiform_rainfall_amount'].to_dataframe().values.flatten(), \n",
    "                 y.to_dataframe().values.flatten(), deg=2)"
   ]
  },
  {
   "cell_type": "code",
   "execution_count": 33,
   "metadata": {},
   "outputs": [
    {
     "data": {
      "text/plain": [
       "array([-0.00258413,  1.28635746, -1.37197069])"
      ]
     },
     "execution_count": 33,
     "metadata": {},
     "output_type": "execute_result"
    }
   ],
   "source": [
    "lin"
   ]
  },
  {
   "cell_type": "code",
   "execution_count": 34,
   "metadata": {},
   "outputs": [
    {
     "data": {
      "text/plain": [
       "[<matplotlib.lines.Line2D at 0x7f5576145320>]"
      ]
     },
     "execution_count": 34,
     "metadata": {},
     "output_type": "execute_result"
    },
    {
     "data": {
      "image/png": "[encoded data removed]",
      "text/plain": [
       "<matplotlib.figure.Figure at 0x7f5575c01748>"
      ]
     },
     "metadata": {},
     "output_type": "display_data"
    }
   ],
   "source": [
    "plt.plot(np.linspace(0, 60, 60), [(lin[0] * x**2) + (lin[1] * x) + lin[2] for x in np.linspace(0, 60, 60)])"
   ]
  },
  {
   "cell_type": "code",
   "execution_count": 35,
   "metadata": {},
   "outputs": [
    {
     "data": {
      "text/plain": [
       "<xarray.Dataset>\n",
       "Dimensions:                     (dim_0: 100)\n",
       "Coordinates:\n",
       "  * dim_0                       (dim_0) int64 156131 156131 156131 156131 ...\n",
       "Data variables:\n",
       "    stratiform_rainfall_amount  (dim_0) float64 94.76 94.76 94.76 94.76 ...\n",
       "    surface_altitude            (dim_0) float64 0.0 0.0 0.0 0.0 0.0 0.0 0.0 ...\n",
       "    distance                    (dim_0) float64 28.96 28.96 28.96 28.96 ...\n",
       "    latitude                    (dim_0) float64 55.31 55.31 55.31 55.31 ...\n",
       "    longitude                   (dim_0) float64 -2.393 -2.393 -2.393 -2.393 ..."
      ]
     },
     "execution_count": 35,
     "metadata": {},
     "output_type": "execute_result"
    }
   ],
   "source": [
    "X"
   ]
  },
  {
   "cell_type": "code",
   "execution_count": 160,
   "metadata": {
    "collapsed": true
   },
   "outputs": [],
   "source": [
    "ker.rbf.set_prior?"
   ]
  },
  {
   "cell_type": "code",
   "execution_count": 27,
   "metadata": {},
   "outputs": [
    {
     "name": "stdout",
     "output_type": "stream",
     "text": [
      "  \u001b[1msum.             \u001b[0;0m  |  value  |  constraints  |  priors\n",
      "  \u001b[1mrbf.variance     \u001b[0;0m  |    1.0  |      +ve      |        \n",
      "  \u001b[1mrbf.lengthscale  \u001b[0;0m  |    1.0  |      +ve      |        \n",
      "  \u001b[1mrbf_1.variance   \u001b[0;0m  |    2.0  |      +ve      |        \n",
      "  \u001b[1mrbf_1.lengthscale\u001b[0;0m  |   20.0  |      +ve      |        \n",
      "  \u001b[1mrbf_2.variance   \u001b[0;0m  |    2.0  |      +ve      |        \n",
      "  \u001b[1mrbf_2.lengthscale\u001b[0;0m  |   20.0  |      +ve      |        \n",
      "  \u001b[1mrbf_3.variance   \u001b[0;0m  |    2.0  |      +ve      |        \n",
      "  \u001b[1mrbf_3.lengthscale\u001b[0;0m  |    0.1  |      +ve      |        \n",
      "  \u001b[1mrbf_4.variance   \u001b[0;0m  |    2.0  |      +ve      |        \n",
      "  \u001b[1mrbf_4.lengthscale\u001b[0;0m  |    0.5  |      +ve      |        \n",
      "Running L-BFGS-B (Scipy implementation) Code:\n",
      "  runtime   i      f              |g|        \n",
      "    02s27  0008   4.823695e+03   3.174137e+06 \n",
      "    06s89  0024   5.808246e+02   7.511022e+00 \n",
      "    11s49  0040   4.538627e+02   2.095830e-04 \n",
      "    19s63  0068   4.525878e+02   4.955856e-05 \n",
      "    27s69  0096   4.524767e+02   3.975096e-05 \n",
      " 01m00s31  0208   4.523314e+02   8.940288e-07 \n",
      " 01m03s76  0220   4.523280e+02   1.265950e-10 \n",
      "Runtime:  01m03s76\n",
      "Optimization status: Converged\n",
      "\n",
      "Done 2\n"
     ]
    }
   ],
   "source": [
    "train_dfs = []\n",
    "test_dfs = []\n",
    "models = []\n",
    "for i in [2]:\n",
    "    X = samples[train_vars]\n",
    "    y = samples['target']\n",
    "    \n",
    "    n = len(X.data_vars)\n",
    "    ker = GPy.kern.RBF(1, active_dims=0) + \\\n",
    "          GPy.kern.RBF(1, variance = 2, lengthscale=20., active_dims=1) + \\\n",
    "          GPy.kern.RBF(1, variance = 2, lengthscale=20., active_dims=2) + \\\n",
    "        GPy.kern.RBF(1, variance = 2, lengthscale=0.1, active_dims=3) + \\\n",
    "          GPy.kern.RBF(1, variance = 2, lengthscale=0.5, active_dims=4)\n",
    "    print(ker)\n",
    "#     ind = np.random.choice(X.shape[0], size=1000, replace=False)\n",
    "    m = GPy.models.SparseGPRegression(X.to_dataframe().values, y.to_dataframe().values.reshape(-1,1), ker, \n",
    "                                      X_variance=np.ones_like(X.to_dataframe().values)*0.001)\n",
    "    m.optimize(messages=True,max_f_eval = 200)\n",
    "    \n",
    "#     print(m.predict(Xt[300:310].values))\n",
    "    \n",
    "    models.append(m)\n",
    "    gc.collect(2)\n",
    "    print('Done {:d}'.format(i))"
   ]
  },
  {
   "cell_type": "code",
   "execution_count": 28,
   "metadata": {
    "collapsed": true
   },
   "outputs": [],
   "source": [
    "m = models[0]"
   ]
  },
  {
   "cell_type": "code",
   "execution_count": 29,
   "metadata": {},
   "outputs": [
    {
     "data": {
      "text/plain": [
       "<matplotlib.axes._subplots.AxesSubplot at 0x7fc2ced6b518>"
      ]
     },
     "execution_count": 29,
     "metadata": {},
     "output_type": "execute_result"
    },
    {
     "name": "stderr",
     "output_type": "stream",
     "text": [
      " /home/ubuntu/miniconda3/lib/python3.6/site-packages/matplotlib/figure.py:1999: UserWarning:This figure includes Axes that are not compatible with tight_layout, so results might be incorrect.\n"
     ]
    },
    {
     "data": {
      "image/png": "[encoded data removed]",
      "text/plain": [
       "<matplotlib.figure.Figure at 0x7fc2c9ab3ef0>"
      ]
     },
     "metadata": {},
     "output_type": "display_data"
    }
   ],
   "source": [
    "m.plot(fixed_inputs=[[1,1], [3,3]], visible_dims=[0])"
   ]
  },
  {
   "cell_type": "code",
   "execution_count": 30,
   "metadata": {
    "collapsed": true
   },
   "outputs": [],
   "source": [
    "# res = test"
   ]
  },
  {
   "cell_type": "code",
   "execution_count": 31,
   "metadata": {
    "collapsed": true
   },
   "outputs": [],
   "source": [
    "# res['preds'] = m.predict(res[train_vars].values)[0]\n",
    "# res['target'] = np.expm1(res['target'])"
   ]
  },
  {
   "cell_type": "code",
   "execution_count": 32,
   "metadata": {
    "collapsed": true
   },
   "outputs": [],
   "source": [
    "x = test[train_vars]"
   ]
  },
  {
   "cell_type": "code",
   "execution_count": 33,
   "metadata": {},
   "outputs": [
    {
     "data": {
      "text/plain": [
       "(5, 38, 48, 419)"
      ]
     },
     "execution_count": 33,
     "metadata": {},
     "output_type": "execute_result"
    }
   ],
   "source": [
    "x.to_array().values[:, ::5].shape"
   ]
  },
  {
   "cell_type": "code",
   "execution_count": 34,
   "metadata": {},
   "outputs": [
    {
     "data": {
      "text/plain": [
       "<matplotlib.collections.PathCollection at 0x7fc3002695f8>"
      ]
     },
     "execution_count": 34,
     "metadata": {},
     "output_type": "execute_result"
    },
    {
     "data": {
      "image/png": "[encoded data removed]",
      "text/plain": [
       "<matplotlib.figure.Figure at 0x7fc300199710>"
      ]
     },
     "metadata": {},
     "output_type": "display_data"
    }
   ],
   "source": [
    "plt.scatter(test['target'].values[::5], test['stratiform_rainfall_amount'].values[::5], s=0.1)"
   ]
  },
  {
   "cell_type": "code",
   "execution_count": 49,
   "metadata": {},
   "outputs": [
    {
     "data": {
      "text/plain": [
       "(752189,)"
      ]
     },
     "execution_count": 49,
     "metadata": {},
     "output_type": "execute_result"
    }
   ],
   "source": [
    "m.predict(test[train_vars].to_array().values.reshape(5,-1).T[::5, :])[0].flatten().shape"
   ]
  },
  {
   "cell_type": "code",
   "execution_count": 46,
   "metadata": {},
   "outputs": [
    {
     "data": {
      "text/plain": [
       "(752189,)"
      ]
     },
     "execution_count": 46,
     "metadata": {},
     "output_type": "execute_result"
    }
   ],
   "source": [
    "test['target'].values.flatten()[::5].shape"
   ]
  },
  {
   "cell_type": "code",
   "execution_count": 50,
   "metadata": {},
   "outputs": [
    {
     "data": {
      "text/plain": [
       "<matplotlib.collections.PathCollection at 0x7fc2c456d668>"
      ]
     },
     "execution_count": 50,
     "metadata": {},
     "output_type": "execute_result"
    },
    {
     "data": {
      "image/png": "[encoded data removed]",
      "text/plain": [
       "<matplotlib.figure.Figure at 0x7fc2c9a963c8>"
      ]
     },
     "metadata": {},
     "output_type": "display_data"
    }
   ],
   "source": [
    "plt.scatter(test['target'].values.flatten()[::5], \n",
    "            m.predict(test[train_vars].to_array().values.reshape(5,-1).T[::5, :])[0].flatten(), s=0.1)"
   ]
  },
  {
   "cell_type": "code",
   "execution_count": 44,
   "metadata": {
    "collapsed": true
   },
   "outputs": [],
   "source": [
    "# with open('models/GP2.pkl', 'wb') as f:\n",
    "#     pickle.dump(m, f)"
   ]
  },
  {
   "cell_type": "code",
   "execution_count": 45,
   "metadata": {
    "collapsed": true
   },
   "outputs": [],
   "source": [
    "preds = m.predict(test[train_vars].to_array().values.T)[0].reshape(187, 48, 419)"
   ]
  },
  {
   "cell_type": "code",
   "execution_count": 46,
   "metadata": {
    "collapsed": true
   },
   "outputs": [],
   "source": [
    "errors = preds - test['target'].values.reshape(187, 48, 419)"
   ]
  },
  {
   "cell_type": "code",
   "execution_count": 47,
   "metadata": {
    "collapsed": true
   },
   "outputs": [],
   "source": [
    "baseline_errors = test['stratiform_rainfall_amount'].values.reshape(187, 48, 419) - test['target'].values.reshape(187, 48, 419)"
   ]
  },
  {
   "cell_type": "code",
   "execution_count": 48,
   "metadata": {},
   "outputs": [
    {
     "data": {
      "text/plain": [
       "(0.15791768275918147, 0.11249728618640026)"
      ]
     },
     "execution_count": 48,
     "metadata": {},
     "output_type": "execute_result"
    }
   ],
   "source": [
    "np.mean(np.square(errors)), np.mean(np.square(baseline_errors))"
   ]
  },
  {
   "cell_type": "code",
   "execution_count": 49,
   "metadata": {},
   "outputs": [
    {
     "data": {
      "text/plain": [
       "[<matplotlib.lines.Line2D at 0x7f5575f396a0>]"
      ]
     },
     "execution_count": 49,
     "metadata": {},
     "output_type": "execute_result"
    },
    {
     "data": {
      "image/png": "[encoded data removed]",
      "text/plain": [
       "<matplotlib.figure.Figure at 0x7f55760238d0>"
      ]
     },
     "metadata": {},
     "output_type": "display_data"
    }
   ],
   "source": [
    "plt.figure(figsize=(15,1))\n",
    "plt.plot(np.mean(np.square(errors), axis=(1,2)), label='model')\n",
    "plt.plot(np.mean(np.square(baseline_errors), axis=(1,2)), label='baseline')"
   ]
  },
  {
   "cell_type": "code",
   "execution_count": 50,
   "metadata": {},
   "outputs": [
    {
     "name": "stdout",
     "output_type": "stream",
     "text": [
      "(3760944,) (3760944,)\n"
     ]
    },
    {
     "data": {
      "text/plain": [
       "Text(0,0.5,'True Positive Rate')"
      ]
     },
     "execution_count": 50,
     "metadata": {},
     "output_type": "execute_result"
    },
    {
     "data": {
      "image/png": "[encoded data removed]",
      "text/plain": [
       "<matplotlib.figure.Figure at 0x7f5575f4c198>"
      ]
     },
     "metadata": {},
     "output_type": "display_data"
    }
   ],
   "source": [
    "ax = plt.gca()\n",
    "\n",
    "yhat = preds.flatten()\n",
    "true = (test['target'].values > 0).astype(int)\n",
    "print(yhat.shape, true.shape)\n",
    "fpr, tpr, _ = sklearn.metrics.roc_curve(true.flatten(), yhat.flatten())\n",
    "plt.plot(fpr, tpr, label='model')\n",
    "ax.set_title(scale)\n",
    "ax.set_xlabel('False Positive Rate')\n",
    "ax.set_ylabel('True Positive Rate')\n",
    "\n",
    "yhat = test['stratiform_rainfall_amount'].values\n",
    "true = (test['target'].values > 0).astype(int)\n",
    "fpr, tpr, _ = sklearn.metrics.roc_curve(true.flatten(), yhat.flatten())\n",
    "plt.plot(fpr, tpr, label='baseline')\n",
    "ax.set_title(scale)\n",
    "ax.set_xlabel('False Positive Rate')\n",
    "ax.set_ylabel('True Positive Rate')"
   ]
  },
  {
   "cell_type": "code",
   "execution_count": 70,
   "metadata": {},
   "outputs": [
    {
     "data": {
      "text/plain": [
       "Text(0.5,1,'baseline')"
      ]
     },
     "execution_count": 70,
     "metadata": {},
     "output_type": "execute_result"
    },
    {
     "data": {
      "image/png": "[encoded data removed]",
      "text/plain": [
       "<matplotlib.figure.Figure at 0x7f5548626860>"
      ]
     },
     "metadata": {},
     "output_type": "display_data"
    }
   ],
   "source": [
    "i = 119\n",
    "\n",
    "fig = plt.figure(figsize=(18,1))\n",
    "\n",
    "vmin = 0\n",
    "vmax = 50\n",
    "\n",
    "ax1 = plt.subplot(131)\n",
    "ax2 = plt.subplot(132)\n",
    "ax3 = plt.subplot(133)\n",
    "\n",
    "im = ax1.pcolormesh(test['target'].values.reshape(187, 48, 419)[i], vmin=vmin, vmax=vmax)\n",
    "ax2.pcolormesh(preds[i], vmin=vmin, vmax=vmax)\n",
    "ax3.pcolormesh(test['stratiform_rainfall_amount'].values.reshape(187, 48, 419)[i], vmin=vmin, vmax=vmax)\n",
    "\n",
    "ax1.set_title('target')\n",
    "ax1.set_ylabel(scale)\n",
    "ax2.set_title('model')\n",
    "ax3.set_title('baseline')"
   ]
  },
  {
   "cell_type": "code",
   "execution_count": 71,
   "metadata": {},
   "outputs": [
    {
     "data": {
      "text/plain": [
       "[<matplotlib.lines.Line2D at 0x7f55484de940>]"
      ]
     },
     "execution_count": 71,
     "metadata": {},
     "output_type": "execute_result"
    },
    {
     "data": {
      "image/png": "[encoded data removed]",
      "text/plain": [
       "<matplotlib.figure.Figure at 0x7f554859c240>"
      ]
     },
     "metadata": {},
     "output_type": "display_data"
    }
   ],
   "source": [
    "def nonlin(x, h):\n",
    "    return (np.tanh(0.0625*(x - 40)) + 1) * 0.5 * h\n",
    "\n",
    "plt.plot(np.linspace(0,70,100), nonlin(np.linspace(0,70,100), np.max(test['target'].values)))"
   ]
  },
  {
   "cell_type": "code",
   "execution_count": 72,
   "metadata": {},
   "outputs": [
    {
     "data": {
      "text/plain": [
       "<matplotlib.collections.QuadMesh at 0x7f55484c0828>"
      ]
     },
     "execution_count": 72,
     "metadata": {},
     "output_type": "execute_result"
    },
    {
     "data": {
      "image/png": "[encoded data removed]",
      "text/plain": [
       "<matplotlib.figure.Figure at 0x7f5548658e10>"
      ]
     },
     "metadata": {},
     "output_type": "display_data"
    }
   ],
   "source": [
    "plt.pcolormesh(test['target'].values.reshape(187, 48, 419)[i], vmin=vmin, vmax=vmax)"
   ]
  },
  {
   "cell_type": "code",
   "execution_count": 73,
   "metadata": {},
   "outputs": [
    {
     "data": {
      "text/plain": [
       "<matplotlib.collections.QuadMesh at 0x7f5548418da0>"
      ]
     },
     "execution_count": 73,
     "metadata": {},
     "output_type": "execute_result"
    },
    {
     "data": {
      "image/png": "[encoded data removed]",
      "text/plain": [
       "<matplotlib.figure.Figure at 0x7f55484900b8>"
      ]
     },
     "metadata": {},
     "output_type": "display_data"
    }
   ],
   "source": [
    "plt.pcolormesh(test['stratiform_rainfall_amount'].values.reshape(187, 48, 419)[i], vmin=vmin, vmax=vmax)"
   ]
  },
  {
   "cell_type": "code",
   "execution_count": 80,
   "metadata": {},
   "outputs": [
    {
     "data": {
      "text/plain": [
       "<matplotlib.collections.QuadMesh at 0x7f55481a5f60>"
      ]
     },
     "execution_count": 80,
     "metadata": {},
     "output_type": "execute_result"
    },
    {
     "data": {
      "image/png": "[encoded data removed]",
      "text/plain": [
       "<matplotlib.figure.Figure at 0x7f554840ca20>"
      ]
     },
     "metadata": {},
     "output_type": "display_data"
    }
   ],
   "source": [
    "q = test['stratiform_rainfall_amount'].values.reshape(187, 48, 419)[i]\n",
    "plt.pcolormesh(np.power(1.114, q), vmin=vmin, vmax=vmax)"
   ]
  },
  {
   "cell_type": "code",
   "execution_count": 363,
   "metadata": {},
   "outputs": [
    {
     "data": {
      "text/plain": [
       "<xarray.DataArray 'stratiform_rainfall_amount' (dim_0: 3760944)>\n",
       "array([ 0.,  0.,  0., ...,  0.,  0.,  0.])\n",
       "Coordinates:\n",
       "  * dim_0    (dim_0) int64 20112 20113 20114 20115 20116 20117 20118 20119 ..."
      ]
     },
     "execution_count": 363,
     "metadata": {},
     "output_type": "execute_result"
    }
   ],
   "source": [
    "test['stratiform_rainfall_amount'].where(test['stratiform_rainfall_amount'] < 0.1)"
   ]
  },
  {
   "cell_type": "code",
   "execution_count": 359,
   "metadata": {},
   "outputs": [
    {
     "ename": "IndexError",
     "evalue": "index 79 is out of bounds for axis 0 with size 48",
     "output_type": "error",
     "traceback": [
      "\u001b[0;31m---------------------------------------------------------------------------\u001b[0m",
      "\u001b[0;31mIndexError\u001b[0m                                Traceback (most recent call last)",
      "\u001b[0;32m<ipython-input-359-7a497f17e908>\u001b[0m in \u001b[0;36m<module>\u001b[0;34m()\u001b[0m\n\u001b[1;32m      1\u001b[0m \u001b[0mq\u001b[0m \u001b[0;34m=\u001b[0m \u001b[0mtest\u001b[0m\u001b[0;34m[\u001b[0m\u001b[0;34m'stratiform_rainfall_amount'\u001b[0m\u001b[0;34m]\u001b[0m\u001b[0;34m.\u001b[0m\u001b[0mvalues\u001b[0m\u001b[0;34m.\u001b[0m\u001b[0mreshape\u001b[0m\u001b[0;34m(\u001b[0m\u001b[0;36m187\u001b[0m\u001b[0;34m,\u001b[0m \u001b[0;36m48\u001b[0m\u001b[0;34m,\u001b[0m \u001b[0;36m419\u001b[0m\u001b[0;34m)\u001b[0m\u001b[0;34m[\u001b[0m\u001b[0mi\u001b[0m\u001b[0;34m]\u001b[0m\u001b[0;34m\u001b[0m\u001b[0m\n\u001b[0;32m----> 2\u001b[0;31m \u001b[0mq\u001b[0m\u001b[0;34m[\u001b[0m\u001b[0mnp\u001b[0m\u001b[0;34m.\u001b[0m\u001b[0mwhere\u001b[0m\u001b[0;34m(\u001b[0m\u001b[0mq\u001b[0m \u001b[0;34m<\u001b[0m \u001b[0;36m0.1\u001b[0m\u001b[0;34m)\u001b[0m\u001b[0;34m[\u001b[0m\u001b[0;36m1\u001b[0m\u001b[0;34m]\u001b[0m\u001b[0;34m]\u001b[0m \u001b[0;34m=\u001b[0m \u001b[0;36m0\u001b[0m\u001b[0;34m\u001b[0m\u001b[0m\n\u001b[0m\u001b[1;32m      3\u001b[0m \u001b[0mplt\u001b[0m\u001b[0;34m.\u001b[0m\u001b[0mpcolormesh\u001b[0m\u001b[0;34m(\u001b[0m\u001b[0mq\u001b[0m\u001b[0;34m)\u001b[0m\u001b[0;34m\u001b[0m\u001b[0m\n",
      "\u001b[0;31mIndexError\u001b[0m: index 79 is out of bounds for axis 0 with size 48"
     ]
    }
   ],
   "source": [
    "q = test['stratiform_rainfall_amount'].values.reshape(187, 48, 419)[i] \n",
    "q[np.where(q < 0.1)[1]] = 0\n",
    "plt.pcolormesh(q)"
   ]
  },
  {
   "cell_type": "code",
   "execution_count": 357,
   "metadata": {
    "collapsed": true
   },
   "outputs": [],
   "source": [
    "np.where?"
   ]
  },
  {
   "cell_type": "code",
   "execution_count": 25,
   "metadata": {},
   "outputs": [
    {
     "data": {
      "text/plain": [
       "[('test', 601751064),\n",
       " ('Pool', 1056),\n",
       " ('train_vars', 144),\n",
       " ('transform', 136),\n",
       " ('t', 112),\n",
       " ('models', 96),\n",
       " ('coord_system', 88),\n",
       " ('ccrs', 80),\n",
       " ('np', 80),\n",
       " ('pd', 80),\n",
       " ('plt', 80),\n",
       " ('xr', 80),\n",
       " ('cond_vars', 72),\n",
       " ('test_dfs', 64),\n",
       " ('train_dfs', 64),\n",
       " ('X', 56),\n",
       " ('ker', 56),\n",
       " ('m', 56),\n",
       " ('samples', 56),\n",
       " ('train', 56),\n",
       " ('y', 56),\n",
       " ('i', 28),\n",
       " ('n', 28),\n",
       " ('scale', 28)]"
      ]
     },
     "execution_count": 25,
     "metadata": {},
     "output_type": "execute_result"
    }
   ],
   "source": [
    "import sys\n",
    "\n",
    "# These are the usual ipython objects, including this one you are creating\n",
    "ipython_vars = ['In', 'Out', 'exit', 'quit', 'get_ipython', 'ipython_vars']\n",
    "\n",
    "# Get a sorted list of the objects and their sizes\n",
    "sorted([(x, sys.getsizeof(globals().get(x))) for x in dir() if not x.startswith('_') and x not in sys.modules and x not in ipython_vars], key=lambda x: x[1], reverse=True)"
   ]
  },
  {
   "cell_type": "code",
   "execution_count": 28,
   "metadata": {
    "collapsed": true
   },
   "outputs": [],
   "source": [
    "import numpy as np\n",
    "import pandas as pd\n",
    "def show_mem_usage():\n",
    "    '''Displays memory usage from inspection\n",
    "    of global variables in this notebook'''\n",
    "    gl = sys._getframe(1).f_globals\n",
    "    vars= {}\n",
    "    for k,v in list(gl.items()):\n",
    "        # for pandas dataframes\n",
    "        if hasattr(v, 'memory_usage'):\n",
    "            mem = v.memory_usage(deep=True)\n",
    "            if not np.isscalar(mem):\n",
    "                mem = mem.sum()\n",
    "            vars.setdefault(id(v),[mem]).append(k)\n",
    "        # work around for a bug\n",
    "        elif isinstance(v,pd.Panel):\n",
    "            v = v.values\n",
    "        vars.setdefault(id(v),[sys.getsizeof(v)]).append(k)\n",
    "    total = 0\n",
    "    for k,(value,*names) in vars.items():\n",
    "        if value>1e6:\n",
    "            print(names,\"%.3fMB\"%(value/1e6))\n",
    "        total += value\n",
    "    print(\"%.3fMB\"%(total/1e6))"
   ]
  },
  {
   "cell_type": "code",
   "execution_count": 34,
   "metadata": {
    "collapsed": true
   },
   "outputs": [],
   "source": [
    "%load_ext memory_profiler"
   ]
  },
  {
   "cell_type": "code",
   "execution_count": 35,
   "metadata": {},
   "outputs": [
    {
     "name": "stdout",
     "output_type": "stream",
     "text": [
      "peak memory: 877.15 MiB, increment: 0.00 MiB\n"
     ]
    }
   ],
   "source": [
    "%memit"
   ]
  },
  {
   "cell_type": "code",
   "execution_count": 36,
   "metadata": {},
   "outputs": [
    {
     "name": "stdout",
     "output_type": "stream",
     "text": [
      "['test', 'test'] 601.751MB\n",
      "601.764MB\n"
     ]
    }
   ],
   "source": [
    "show_mem_usage()"
   ]
  },
  {
   "cell_type": "code",
   "execution_count": null,
   "metadata": {
    "collapsed": true
   },
   "outputs": [],
   "source": []
  }
 ],
 "metadata": {
  "kernelspec": {
   "display_name": "Python 3",
   "language": "python",
   "name": "python3"
  },
  "language_info": {
   "codemirror_mode": {
    "name": "ipython",
    "version": 3
   },
   "file_extension": ".py",
   "mimetype": "text/x-python",
   "name": "python",
   "nbconvert_exporter": "python",
   "pygments_lexer": "ipython3",
   "version": "3.6.3"
  }
 },
 "nbformat": 4,
 "nbformat_minor": 2
}
