{
 "cells": [
  {
   "cell_type": "code",
   "execution_count": 1,
   "metadata": {
    "collapsed": true
   },
   "outputs": [],
   "source": [
    "import iris\n",
    "import os\n",
    "import fnmatch\n",
    "import numpy as np\n",
    "import xarray as xr\n",
    "from matplotlib import pyplot as plt\n",
    "\n",
    "%matplotlib inline"
   ]
  },
  {
   "cell_type": "code",
   "execution_count": 2,
   "metadata": {
    "collapsed": true
   },
   "outputs": [],
   "source": [
    "folder = '/home/ubuntu/s3/mogreps-uk/'"
   ]
  },
  {
   "cell_type": "code",
   "execution_count": 7,
   "metadata": {
    "collapsed": true
   },
   "outputs": [],
   "source": [
    "fs = []\n",
    "\n",
    "# for month in [5,6,7,8,9,10]:\n",
    "for month in [6,7,8]:\n",
    "    for day in list(range(1,22)):\n",
    "        for hour in [3, 9, 15, 21]:\n",
    "#             fcsts = [3] if hour == 21 else [3, 6]\n",
    "            fcsts = [3,6]\n",
    "            for fcst in fcsts:\n",
    "                f = 'prods_op_mogreps-uk_2016{:02d}{:02d}_{:02d}_00_{:03d}'.format(month, day, hour, fcst)\n",
    "                fs.append(f+'.nc')\n",
    "fs = [folder+f for f in fs]"
   ]
  },
  {
   "cell_type": "code",
   "execution_count": 8,
   "metadata": {},
   "outputs": [
    {
     "data": {
      "text/plain": [
       "504"
      ]
     },
     "execution_count": 8,
     "metadata": {},
     "output_type": "execute_result"
    }
   ],
   "source": [
    "len(fs)"
   ]
  },
  {
   "cell_type": "code",
   "execution_count": 9,
   "metadata": {},
   "outputs": [
    {
     "name": "stdout",
     "output_type": "stream",
     "text": [
      "CPU times: user 41.8 s, sys: 2.08 s, total: 43.8 s\n",
      "Wall time: 20min 52s\n"
     ]
    }
   ],
   "source": [
    "%%time\n",
    "dss = []\n",
    "for f in fs:\n",
    "    dss.append(xr.open_dataset(f)['stratiform_rainfall_amount'].isel(dim0=2))\n",
    "\n",
    "rain = xr.concat([ds.drop('forecast_period_3') for ds in dss if 'forecast_period_3' in ds.coords],\n",
    "                  dim='forecast_reference_time')"
   ]
  },
  {
   "cell_type": "code",
   "execution_count": 10,
   "metadata": {},
   "outputs": [
    {
     "data": {
      "text/plain": [
       "<xarray.DataArray 'stratiform_rainfall_amount' (forecast_reference_time: 252, grid_latitude: 548, grid_longitude: 421)>\n",
       "array([[[ 0.007812,  0.019531, ...,  0.      ,  0.      ],\n",
       "        [ 0.015625,  0.023438, ...,  0.      ,  0.      ],\n",
       "        ..., \n",
       "        [ 0.003906,  0.003906, ...,  0.003906,  0.      ],\n",
       "        [ 0.      ,  0.      , ...,  0.003906,  0.      ]],\n",
       "\n",
       "       [[ 0.      ,  0.      , ...,  0.      ,  0.      ],\n",
       "        [ 0.      ,  0.      , ...,  0.      ,  0.      ],\n",
       "        ..., \n",
       "        [ 0.      ,  0.      , ...,  0.      ,  0.      ],\n",
       "        [ 0.      ,  0.      , ...,  0.      ,  0.      ]],\n",
       "\n",
       "       ..., \n",
       "       [[ 0.      ,  0.      , ...,  0.      ,  0.      ],\n",
       "        [ 0.      ,  0.      , ...,  0.      ,  0.      ],\n",
       "        ..., \n",
       "        [ 0.      ,  0.      , ...,  0.      ,  0.      ],\n",
       "        [ 0.      ,  0.      , ...,  0.      ,  0.      ]],\n",
       "\n",
       "       [[ 0.      ,  0.      , ...,  0.      ,  0.      ],\n",
       "        [ 0.      ,  0.      , ...,  0.      ,  0.      ],\n",
       "        ..., \n",
       "        [ 0.      ,  0.      , ...,  0.      ,  0.      ],\n",
       "        [ 0.      ,  0.      , ...,  0.      ,  0.      ]]])\n",
       "Coordinates:\n",
       "  * grid_latitude            (grid_latitude) float32 -3.77995 -3.75995 ...\n",
       "  * grid_longitude           (grid_longitude) float32 354.911 354.931 ...\n",
       "    forecast_period_1        timedelta64[ns] 00:00:00\n",
       "    height                   float64 1.5\n",
       "    level_height             float32 5.0\n",
       "    model_level_number       int32 1\n",
       "    sigma                    float32 0.999424\n",
       "    level_height_0           float32 5.0\n",
       "    height_0                 float64 10.0\n",
       "    level_height_1           float32 600.0\n",
       "    model_level_number_0     int32 13\n",
       "    sigma_0                  float32 0.932043\n",
       "    level_height_2           float32 600.0\n",
       "  * forecast_reference_time  (forecast_reference_time) datetime64[ns] 2016-06-01T03:00:00 ...\n",
       "    time_1                   (forecast_reference_time) datetime64[ns] 2016-06-01T03:00:00 ...\n",
       "    time_3                   (forecast_reference_time) datetime64[ns] 2016-06-01T03:00:00 ...\n",
       "Attributes:\n",
       "    standard_name:    stratiform_rainfall_amount\n",
       "    units:            kg m-2\n",
       "    um_stash_source:  m01s04i201\n",
       "    cell_methods:     time: mean (interval: 1 hour)\n",
       "    grid_mapping:     rotated_latitude_longitude"
      ]
     },
     "execution_count": 10,
     "metadata": {},
     "output_type": "execute_result"
    }
   ],
   "source": [
    "rain"
   ]
  },
  {
   "cell_type": "code",
   "execution_count": 15,
   "metadata": {},
   "outputs": [
    {
     "data": {
      "text/plain": [
       "<matplotlib.collections.QuadMesh at 0x7fd03295d828>"
      ]
     },
     "execution_count": 15,
     "metadata": {},
     "output_type": "execute_result"
    },
    {
     "data": {
      "image/png": "[encoded data removed]",
      "text/plain": [
       "<matplotlib.figure.Figure at 0x7fd032e70710>"
      ]
     },
     "metadata": {},
     "output_type": "display_data"
    }
   ],
   "source": [
    "plt.pcolormesh(rain[250])"
   ]
  },
  {
   "cell_type": "code",
   "execution_count": 17,
   "metadata": {
    "collapsed": true
   },
   "outputs": [],
   "source": [
    "rain.to_netcdf('data/hr_summer_precip.nc')"
   ]
  },
  {
   "cell_type": "code",
   "execution_count": null,
   "metadata": {
    "collapsed": true
   },
   "outputs": [],
   "source": []
  }
 ],
 "metadata": {
  "kernelspec": {
   "display_name": "Python 3",
   "language": "python",
   "name": "python3"
  },
  "language_info": {
   "codemirror_mode": {
    "name": "ipython",
    "version": 3
   },
   "file_extension": ".py",
   "mimetype": "text/x-python",
   "name": "python",
   "nbconvert_exporter": "python",
   "pygments_lexer": "ipython3",
   "version": "3.6.3"
  }
 },
 "nbformat": 4,
 "nbformat_minor": 2
}
